{
 "cells": [
  {
   "cell_type": "code",
   "execution_count": null,
   "metadata": {
    "collapsed": true
   },
   "outputs": [],
   "source": [
    "import string\n",
    "import re\n",
    "import time\n",
    "start_time = time.time()\n",
    "\n",
    "# Cleaning the data for deleting the magic characters and deleting comments\n",
    "\n",
    "#File = open(\"diskFile.txt\",\"r\")\n",
    "File = open(\"POM3A.txt\",\"r\")\n",
    "content = File.read()\n",
    "content= re.sub('[~@!$%^&*(){}<>]','', content)\n",
    "content= re.sub(' ','', content)\n",
    "#print content\n",
    "index = [] # it holds the index of evey \"#\" \n",
    "dest = [] # It holds the index of the first \\n after each \"#\"\n",
    "\n",
    "i = 0\n",
    "while i < len(content):\n",
    "    if content[i] == \"#\":\n",
    "        head, sep, tail = content.partition('#') \n",
    "        index.append(i)\n",
    "        dest.append(content.find(\"\\n\", i))\n",
    "        content = head + tail[content.find(\"\\n\", i)-i-1:]\n",
    "    else:\n",
    "        i = i + 1    \n",
    "        \n",
    "#print content\n",
    "    \n",
    "\n",
    "File2 = open(\"clean.txt\",\"w+\")\n",
    "File2.write(content)\n",
    "File2.close()    \n",
    "File.close()\n",
    "#print \"################################\""
   ]
  },
  {
   "cell_type": "code",
   "execution_count": null,
   "metadata": {
    "collapsed": true
   },
   "outputs": [],
   "source": [
    "# deleting the rows with faulty number of elements per row\n",
    "\n",
    "Data = [] # this holds the data in a list of lists (one list per row)\n",
    "File = open(\"clean.txt\",\"r\")\n",
    "for line in File.readlines():\n",
    "    Data.append(line.split(','))\n",
    "    \n",
    "for i in range(len(Data)):   # deleting \\n from the last element of the list\n",
    "    Data[i][-1] = Data[i][-1].strip()\n",
    "\n",
    "holder = [] \n",
    "for i in range(len(Data)):\n",
    "    if len(Data[i]) == len(Data[0]):\n",
    "        holder.append(Data[i])\n",
    "    else:\n",
    "        print 'Row number' ,i , 'was faulty and has been deleted!'\n",
    "#print holder\n",
    "Data = holder"
   ]
  },
  {
   "cell_type": "code",
   "execution_count": null,
   "metadata": {
    "collapsed": true
   },
   "outputs": [],
   "source": [
    "# deleting the column with \"?\" \n",
    "\n",
    "sub = \"?\"\n",
    "i = 0\n",
    "junkColumn = []\n",
    "while i < len(Data[0]):\n",
    "    if any(sub in string for string in Data[0][i]):     \n",
    "        junkColumn.append(i) #the indeces of the columns that has to be deleted\n",
    "    i = i+1\n",
    "for i in range(len(junkColumn)):\n",
    "    for row in Data:\n",
    "        del row[junkColumn[i]]\n",
    "#print Data\n",
    "\n",
    "outarr = np.vstack(Data)\n",
    "print outarr\n",
    "\n",
    "File3 = open(\"ProcessedData.txt\",\"w+\")\n",
    "for i in range(len(Data)):\n",
    "    for j in range(len(Data[0])):\n",
    "        if j < len(Data[0])-1:\n",
    "            File3.write(str(Data[i][j]) + ',')\n",
    "        else:\n",
    "            File3.write(str(Data[i][j]) + '\\n')\n",
    "    \n",
    "File3.close()  \n",
    "File.close()"
   ]
  },
  {
   "cell_type": "code",
   "execution_count": null,
   "metadata": {
    "collapsed": true
   },
   "outputs": [],
   "source": [
    "# Runtime report\n",
    "\n",
    "print(\"---Runtime was %s seconds ---\" % (time.time() - start_time))"
   ]
  }
 ],
 "metadata": {
  "kernelspec": {
   "display_name": "Python 2",
   "language": "python",
   "name": "python2"
  },
  "language_info": {
   "codemirror_mode": {
    "name": "ipython",
    "version": 2
   },
   "file_extension": ".py",
   "mimetype": "text/x-python",
   "name": "python",
   "nbconvert_exporter": "python",
   "pygments_lexer": "ipython2",
   "version": "2.7.12"
  }
 },
 "nbformat": 4,
 "nbformat_minor": 2
}
