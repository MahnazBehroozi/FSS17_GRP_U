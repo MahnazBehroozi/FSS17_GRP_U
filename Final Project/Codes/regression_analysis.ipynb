{
 "cells": [
  {
   "cell_type": "code",
   "execution_count": 36,
   "metadata": {},
   "outputs": [],
   "source": [
    "%matplotlib inline\n",
    "import sys\n",
    "import cv2\n",
    "from matplotlib import pyplot as plt\n",
    "import numpy as np\n",
    "import aruco"
   ]
  },
  {
   "cell_type": "code",
   "execution_count": 37,
   "metadata": {
    "collapsed": true
   },
   "outputs": [],
   "source": [
    "# Globals\n",
    "CV_CAP_PROP_POS_MSEC = 0\n",
    "CV_CAP_PROP_FRAME_COUNT = 7\n",
    "\n",
    "def dist(x1,y1,x2,y2):\n",
    "    return ((x2-x1)**2 + (y2-y1)**2)**0.5"
   ]
  },
  {
   "cell_type": "code",
   "execution_count": 38,
   "metadata": {
    "collapsed": true
   },
   "outputs": [],
   "source": [
    "# set up - choose files\n",
    "stripped_raw_data_file_path = \"board_stripped.txt\"\n",
    "visual_intake_times_path = \"visualIntakeTimes.txt\"\n",
    "video_file_path = \"AlisonBoard1-1-recording.avi\""
   ]
  },
  {
   "cell_type": "code",
   "execution_count": 39,
   "metadata": {
    "collapsed": true
   },
   "outputs": [],
   "source": [
    "# create detector\n",
    "detector = aruco.MarkerDetector()"
   ]
  },
  {
   "cell_type": "code",
   "execution_count": 40,
   "metadata": {
    "collapsed": true
   },
   "outputs": [],
   "source": [
    "# load eye tracking data\n",
    "eye_data = []\n",
    "data_file_object  = open(stripped_raw_data_file_path, \"r\")\n",
    "data_file_object.readline()\n",
    "for line in data_file_object.readlines():\n",
    "    eye_data.append(map(float, line.split()))\n",
    "data_file_object.close()"
   ]
  },
  {
   "cell_type": "code",
   "execution_count": 41,
   "metadata": {},
   "outputs": [],
   "source": [
    "# load visual intake times\n",
    "vi_times = []\n",
    "data_file_object = open(visual_intake_times_path, \"r\")\n",
    "for line in data_file_object.readlines():\n",
    "    vi_times.append(float(line))\n",
    "data_file_object.close()"
   ]
  },
  {
   "cell_type": "code",
   "execution_count": 42,
   "metadata": {
    "collapsed": true
   },
   "outputs": [],
   "source": [
    "# load video\n",
    "\n",
    "cap = cv2.VideoCapture(video_file_path)\n",
    "ret, frame = cap.read()\n",
    "    \n",
    "if not ret:\n",
    "    print(\"can't open video!\")\n",
    "    sys.exit(-1)\n",
    "\n",
    "vi_number = 0\n",
    "time = vi_times[vi_number]\n",
    "\n",
    "markers = detector.detect(frame)\n",
    "lastClosestMarker = markers[0].id\n",
    "regressions = []\n",
    "\n",
    "while ret and int(time/16.3) < len(eye_data):\n",
    "    markers = detector.detect(frame)\n",
    "\n",
    "    if len(markers) == 0:\n",
    "        # read next frame\n",
    "        ret, frame = cap.read()\n",
    "        vi_number += 1\n",
    "        time = vi_times[vi_number]\n",
    "        continue\n",
    "    \n",
    "    # variables for accessing marker coordinates\n",
    "    upperLeft = 0 #corner of marker\n",
    "    upperRight = 1\n",
    "    lowerLeft = 3\n",
    "    lowerRight = 2\n",
    "    x = 0\n",
    "    y = 1\n",
    "    \n",
    "    closestMarker = [markers[0].id, markers[0][upperLeft][x], markers[0][upperLeft][y]]\n",
    "    gaze_pos_x = eye_data[int(time/16.3)][1]\n",
    "    gaze_pos_y = eye_data[int(time/16.3)][2]\n",
    "    \n",
    "    for marker in markers:\n",
    "        # get marker ID and point positions\n",
    "        distance_curr_marker = dist(gaze_pos_x, gaze_pos_y, marker[upperLeft][x], marker[upperLeft][y])\n",
    "        distance_closest_marker = dist(gaze_pos_x, gaze_pos_y, closestMarker[1], closestMarker[2])\n",
    "        if distance_curr_marker < distance_closest_marker:\n",
    "            closestMarker = [marker.id, marker[upperLeft][x], marker[upperLeft][y]]\n",
    "    \n",
    "    if closestMarker[0] < lastClosestMarker-15:\n",
    "        regressions.append([time, lastClosestMarker, closestMarker[0]])\n",
    "    \n",
    "    lastClosestMarker = closestMarker[0]\n",
    "    \n",
    "    # read next frame\n",
    "    ret, frame = cap.read()\n",
    "    vi_number += 1\n",
    "    time = vi_times[vi_number]\n",
    "    \n",
    "    "
   ]
  },
  {
   "cell_type": "code",
   "execution_count": 43,
   "metadata": {},
   "outputs": [
    {
     "name": "stdout",
     "output_type": "stream",
     "text": [
      "37\n"
     ]
    }
   ],
   "source": [
    "print len(regressions)"
   ]
  },
  {
   "cell_type": "code",
   "execution_count": 44,
   "metadata": {},
   "outputs": [
    {
     "name": "stdout",
     "output_type": "stream",
     "text": [
      "0.799 \t49 \t20\n",
      "1.331 \t48 \t4\n",
      "3.295 \t33 \t1\n",
      "4.676 \t49 \t1\n",
      "5.941 \t48 \t31\n",
      "7.289 \t33 \t17\n",
      "8.603 \t48 \t17\n",
      "12.181 \t48 \t17\n",
      "16.857 \t49 \t33\n",
      "20.002 \t47 \t31\n",
      "23.629 \t49 \t33\n",
      "32.515 \t49 \t33\n",
      "37.274 \t50 \t33\n",
      "37.806 \t65 \t21\n",
      "39.937 \t65 \t49\n",
      "48.423 \t66 \t37\n",
      "53.365 \t51 \t23\n",
      "53.748 \t66 \t49\n",
      "64.913 \t50 \t21\n",
      "67.576 \t51 \t35\n",
      "68.841 \t67 \t51\n",
      "79.074 \t68 \t52\n",
      "79.64 \t68 \t20\n",
      "82.968 \t68 \t52\n",
      "85.148 \t68 \t38\n",
      "85.93 \t68 \t52\n",
      "89.591 \t53 \t37\n",
      "91.388 \t53 \t21\n",
      "107.313 \t69 \t52\n",
      "120.125 \t64 \t19\n",
      "128.945 \t64 \t48\n",
      "131.258 \t64 \t47\n",
      "134.852 \t64 \t21\n",
      "141.109 \t65 \t49\n",
      "146.4 \t65 \t36\n",
      "150.011 \t65 \t49\n",
      "154.521 \t65 \t33\n"
     ]
    }
   ],
   "source": [
    "for regression in regressions:\n",
    "    print round(regression[0]/1000, 3), \"\\t\", regression[1], \"\\t\", regression[2]"
   ]
  },
  {
   "cell_type": "code",
   "execution_count": null,
   "metadata": {
    "collapsed": true
   },
   "outputs": [],
   "source": []
  }
 ],
 "metadata": {
  "kernelspec": {
   "display_name": "Python 2",
   "language": "python",
   "name": "python2"
  },
  "language_info": {
   "codemirror_mode": {
    "name": "ipython",
    "version": 2
   },
   "file_extension": ".py",
   "mimetype": "text/x-python",
   "name": "python",
   "nbconvert_exporter": "python",
   "pygments_lexer": "ipython2",
   "version": "2.7.12"
  }
 },
 "nbformat": 4,
 "nbformat_minor": 2
}
